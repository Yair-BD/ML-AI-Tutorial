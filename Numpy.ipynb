{
  "nbformat": 4,
  "nbformat_minor": 0,
  "metadata": {
    "colab": {
      "name": "Numpy.ipynb",
      "provenance": [],
      "collapsed_sections": [],
      "authorship_tag": "ABX9TyORfdrW61QeQVgKVxW2FfsC",
      "include_colab_link": true
    },
    "kernelspec": {
      "name": "python3",
      "display_name": "Python 3"
    },
    "language_info": {
      "name": "python"
    }
  },
  "cells": [
    {
      "cell_type": "markdown",
      "metadata": {
        "id": "view-in-github",
        "colab_type": "text"
      },
      "source": [
        "<a href=\"https://colab.research.google.com/github/Yair-BD/ML-AI-Tutorial/blob/main/Numpy.ipynb\" target=\"_parent\"><img src=\"https://colab.research.google.com/assets/colab-badge.svg\" alt=\"Open In Colab\"/></a>"
      ]
    },
    {
      "cell_type": "code",
      "metadata": {
        "colab": {
          "base_uri": "https://localhost:8080/"
        },
        "id": "55hCrYMO74r7",
        "outputId": "0f096b68-e647-40aa-b63f-33d7488b6497"
      },
      "source": [
        "import numpy as np\n",
        "a = np.zeros(3)\n",
        "a"
      ],
      "execution_count": null,
      "outputs": [
        {
          "output_type": "execute_result",
          "data": {
            "text/plain": [
              "array([0., 0., 0.])"
            ]
          },
          "metadata": {},
          "execution_count": 16
        }
      ]
    },
    {
      "cell_type": "markdown",
      "metadata": {
        "id": "WO2ratvcD-a1"
      },
      "source": [
        "ווקטור הוא מערך חד מיימדי"
      ]
    },
    {
      "cell_type": "code",
      "metadata": {
        "colab": {
          "base_uri": "https://localhost:8080/"
        },
        "id": "4_z7_N_N8juV",
        "outputId": "3546d90e-1d3f-44a0-ce63-732e7039007d"
      },
      "source": [
        "one_dimantion=  np.array([10,20,384,5,6,7,8,445,3334,334455])\n",
        "one_dimantion\n"
      ],
      "execution_count": null,
      "outputs": [
        {
          "output_type": "execute_result",
          "data": {
            "text/plain": [
              "array([    10,     20,    384,      5,      6,      7,      8,    445,\n",
              "         3334, 334455])"
            ]
          },
          "metadata": {},
          "execution_count": 21
        }
      ]
    },
    {
      "cell_type": "markdown",
      "metadata": {
        "id": "ylesGMFWEE_0"
      },
      "source": [
        "מטריקס הוא מערך בעל יותר מווקטור אחד"
      ]
    },
    {
      "cell_type": "code",
      "metadata": {
        "colab": {
          "base_uri": "https://localhost:8080/"
        },
        "id": "m63h1dzU9zNT",
        "outputId": "18d13dea-82d5-4ba0-d70b-7cb071342efa"
      },
      "source": [
        "two_dimantion = np.array([[1,2,3],[4,5,6]])\n",
        "two_dimantion"
      ],
      "execution_count": null,
      "outputs": [
        {
          "output_type": "execute_result",
          "data": {
            "text/plain": [
              "array([[1, 2, 3],\n",
              "       [4, 5, 6]])"
            ]
          },
          "metadata": {},
          "execution_count": 22
        }
      ]
    },
    {
      "cell_type": "code",
      "metadata": {
        "colab": {
          "base_uri": "https://localhost:8080/"
        },
        "id": "HiedR-Q7-W29",
        "outputId": "11a3d901-0179-4b89-f474-9fd689ee590f"
      },
      "source": [
        " t_row_Columns= two_dimantion.shape\n",
        " t_row_Columns"
      ],
      "execution_count": null,
      "outputs": [
        {
          "output_type": "execute_result",
          "data": {
            "text/plain": [
              "(2, 3)"
            ]
          },
          "metadata": {},
          "execution_count": 23
        }
      ]
    },
    {
      "cell_type": "code",
      "metadata": {
        "colab": {
          "base_uri": "https://localhost:8080/"
        },
        "id": "8ftDKUvS--F1",
        "outputId": "117b6a6c-cdaf-4b03-b92d-46da36f32314"
      },
      "source": [
        "first_in = one_dimantion[0]\n",
        "first_in"
      ],
      "execution_count": null,
      "outputs": [
        {
          "output_type": "execute_result",
          "data": {
            "text/plain": [
              "10"
            ]
          },
          "metadata": {},
          "execution_count": 24
        }
      ]
    },
    {
      "cell_type": "code",
      "metadata": {
        "colab": {
          "base_uri": "https://localhost:8080/"
        },
        "id": "1d5us8UnAIue",
        "outputId": "6cadd4bc-ce15-4801-de56-d7f521a6c9cd"
      },
      "source": [
        "from_1_2 = one_dimantion[0:3]\n",
        "from_1_2"
      ],
      "execution_count": null,
      "outputs": [
        {
          "output_type": "execute_result",
          "data": {
            "text/plain": [
              "array([ 10,  20, 384])"
            ]
          },
          "metadata": {},
          "execution_count": 25
        }
      ]
    },
    {
      "cell_type": "markdown",
      "metadata": {
        "id": "Dc96P3VJDRTJ"
      },
      "source": [
        "טנסור הוא מערך דו מיימדי ."
      ]
    },
    {
      "cell_type": "code",
      "metadata": {
        "id": "sry35hZ_AcyN",
        "colab": {
          "base_uri": "https://localhost:8080/"
        },
        "outputId": "05feb030-7182-439e-9ae8-70b36c918318"
      },
      "source": [
        "two_vectors_1 = np.array([[77,88,99],[44,55,66]])\n",
        "two_vectors_1"
      ],
      "execution_count": 31,
      "outputs": [
        {
          "output_type": "execute_result",
          "data": {
            "text/plain": [
              "array([[77, 88, 99],\n",
              "       [44, 55, 66]])"
            ]
          },
          "metadata": {},
          "execution_count": 31
        }
      ]
    },
    {
      "cell_type": "code",
      "metadata": {
        "id": "ygM2PbABA8dt",
        "colab": {
          "base_uri": "https://localhost:8080/"
        },
        "outputId": "51a1263c-f982-4f50-fb11-90d6e5959112"
      },
      "source": [
        "tensor = np.array([two_dimantion,two_dimantion_1])\n",
        "tensor"
      ],
      "execution_count": 32,
      "outputs": [
        {
          "output_type": "execute_result",
          "data": {
            "text/plain": [
              "array([[[ 1,  2,  3],\n",
              "        [ 4,  5,  6]],\n",
              "\n",
              "       [[77, 88, 99],\n",
              "        [44, 55, 66]]])"
            ]
          },
          "metadata": {},
          "execution_count": 32
        }
      ]
    },
    {
      "cell_type": "code",
      "metadata": {
        "colab": {
          "base_uri": "https://localhost:8080/"
        },
        "id": "z_OZluvEDN3u",
        "outputId": "2e041c1b-d1bf-4fd1-a2ae-76e68600b175"
      },
      "source": [
        "second_in = two_dimantion[0,1]\n",
        "second_in"
      ],
      "execution_count": 35,
      "outputs": [
        {
          "output_type": "execute_result",
          "data": {
            "text/plain": [
              "2"
            ]
          },
          "metadata": {},
          "execution_count": 35
        }
      ]
    },
    {
      "cell_type": "code",
      "metadata": {
        "colab": {
          "base_uri": "https://localhost:8080/"
        },
        "id": "E5FWhgcAFQO_",
        "outputId": "5b4d8deb-71b2-4601-a862-8ef3d561794c"
      },
      "source": [
        "#change _second \n",
        "two_dimantion[0,1] = 7\n",
        "two_dimantion"
      ],
      "execution_count": 39,
      "outputs": [
        {
          "output_type": "execute_result",
          "data": {
            "text/plain": [
              "array([[1, 7, 3],\n",
              "       [4, 5, 6]])"
            ]
          },
          "metadata": {},
          "execution_count": 39
        }
      ]
    },
    {
      "cell_type": "code",
      "metadata": {
        "colab": {
          "base_uri": "https://localhost:8080/"
        },
        "id": "KDo59MEDFvot",
        "outputId": "584c45cb-8468-4980-ab76-855d32e61c23"
      },
      "source": [
        "first_row = two_dimantion[0]\n",
        "first_row "
      ],
      "execution_count": 40,
      "outputs": [
        {
          "output_type": "execute_result",
          "data": {
            "text/plain": [
              "array([1, 7, 3])"
            ]
          },
          "metadata": {},
          "execution_count": 40
        }
      ]
    },
    {
      "cell_type": "code",
      "metadata": {
        "colab": {
          "base_uri": "https://localhost:8080/"
        },
        "id": "_8Gh8HYLGL8l",
        "outputId": "3b2cd82e-4ea4-4e59-833f-6b3ea41f6704"
      },
      "source": [
        "second_column = two_dimantion[:,1]\n",
        "second_column"
      ],
      "execution_count": 47,
      "outputs": [
        {
          "output_type": "execute_result",
          "data": {
            "text/plain": [
              "array([7, 5])"
            ]
          },
          "metadata": {},
          "execution_count": 47
        }
      ]
    },
    {
      "cell_type": "code",
      "metadata": {
        "colab": {
          "base_uri": "https://localhost:8080/"
        },
        "id": "WjbcdfrFGZlt",
        "outputId": "b188af3a-9a1f-482e-d881-b9acf627b0d3"
      },
      "source": [
        "if_array = np.array([3,6,2,-6,-4,2,9,8,-4])\n",
        "if_array"
      ],
      "execution_count": 61,
      "outputs": [
        {
          "output_type": "execute_result",
          "data": {
            "text/plain": [
              "array([ 3,  6,  2, -6, -4,  2,  9,  8, -4])"
            ]
          },
          "metadata": {},
          "execution_count": 61
        }
      ]
    },
    {
      "cell_type": "code",
      "metadata": {
        "colab": {
          "base_uri": "https://localhost:8080/"
        },
        "id": "Hw1U2P4FHsbt",
        "outputId": "829d848a-a0aa-493d-d074-774979fdd00c"
      },
      "source": [
        "if_array>3"
      ],
      "execution_count": 52,
      "outputs": [
        {
          "output_type": "execute_result",
          "data": {
            "text/plain": [
              "array([False,  True, False, False, False, False,  True,  True, False])"
            ]
          },
          "metadata": {},
          "execution_count": 52
        }
      ]
    },
    {
      "cell_type": "code",
      "metadata": {
        "colab": {
          "base_uri": "https://localhost:8080/"
        },
        "id": "W3h0mPQWH1_1",
        "outputId": "e9633c33-4cff-4edb-b0c6-b3230f92d1a7"
      },
      "source": [
        "if_array[if_array>3]"
      ],
      "execution_count": 53,
      "outputs": [
        {
          "output_type": "execute_result",
          "data": {
            "text/plain": [
              "array([6, 9, 8])"
            ]
          },
          "metadata": {},
          "execution_count": 53
        }
      ]
    },
    {
      "cell_type": "code",
      "metadata": {
        "id": "6FZ9jixQH7uU"
      },
      "source": [
        "a = if_array[if_array>3]         # [ 8. 13.  4.]\n",
        "b = if_array[(if_array>3)&(if_array<9)] # [8. 4.]\n",
        "c = if_array[(if_array<3)|(if_array>9)] # [-2.  13.   1.2]"
      ],
      "execution_count": 56,
      "outputs": []
    },
    {
      "cell_type": "code",
      "metadata": {
        "colab": {
          "base_uri": "https://localhost:8080/"
        },
        "id": "eq2_Bb1HIM_U",
        "outputId": "84bdf3d5-f465-41a3-fb8c-c4b8c3df6be8"
      },
      "source": [
        "a"
      ],
      "execution_count": 57,
      "outputs": [
        {
          "output_type": "execute_result",
          "data": {
            "text/plain": [
              "array([6, 9, 8])"
            ]
          },
          "metadata": {},
          "execution_count": 57
        }
      ]
    },
    {
      "cell_type": "code",
      "metadata": {
        "colab": {
          "base_uri": "https://localhost:8080/"
        },
        "id": "dnJPUfRgIV5U",
        "outputId": "13db78c5-539d-4223-e213-fddb438163aa"
      },
      "source": [
        "b"
      ],
      "execution_count": 58,
      "outputs": [
        {
          "output_type": "execute_result",
          "data": {
            "text/plain": [
              "array([6, 8])"
            ]
          },
          "metadata": {},
          "execution_count": 58
        }
      ]
    },
    {
      "cell_type": "code",
      "metadata": {
        "colab": {
          "base_uri": "https://localhost:8080/"
        },
        "id": "1dgj9CdZIWN0",
        "outputId": "64b716ff-10c0-40ae-f82a-8539197e3b7e"
      },
      "source": [
        "c"
      ],
      "execution_count": 59,
      "outputs": [
        {
          "output_type": "execute_result",
          "data": {
            "text/plain": [
              "array([ 2, -6, -4,  2, -4])"
            ]
          },
          "metadata": {},
          "execution_count": 59
        }
      ]
    },
    {
      "cell_type": "code",
      "metadata": {
        "colab": {
          "base_uri": "https://localhost:8080/"
        },
        "id": "xCrfFhjJIWbM",
        "outputId": "f645dd06-ef70-42b3-a323-86f54c5cb5e3"
      },
      "source": [
        "2*a"
      ],
      "execution_count": 62,
      "outputs": [
        {
          "output_type": "execute_result",
          "data": {
            "text/plain": [
              "array([12, 18, 16])"
            ]
          },
          "metadata": {},
          "execution_count": 62
        }
      ]
    },
    {
      "cell_type": "markdown",
      "metadata": {
        "id": "mBDXz1DjKVwa"
      },
      "source": [
        "הכפלה של מערכים מכפילה כל מיקום בכל מיקום בצורה חח\"ע "
      ]
    },
    {
      "cell_type": "code",
      "metadata": {
        "colab": {
          "base_uri": "https://localhost:8080/"
        },
        "id": "LeJo2WKVKA3d",
        "outputId": "628dfa2f-f71b-43b1-c5a0-67bc877d9a52"
      },
      "source": [
        "a*np.array([1,2,3])"
      ],
      "execution_count": 65,
      "outputs": [
        {
          "output_type": "execute_result",
          "data": {
            "text/plain": [
              "array([ 6, 18, 24])"
            ]
          },
          "metadata": {},
          "execution_count": 65
        }
      ]
    },
    {
      "cell_type": "markdown",
      "metadata": {
        "id": "gEyufQLfKu3v"
      },
      "source": [
        "נסיוח מחדש של המערך "
      ]
    },
    {
      "cell_type": "code",
      "metadata": {
        "colab": {
          "base_uri": "https://localhost:8080/"
        },
        "id": "N10xxcueKDok",
        "outputId": "faccb696-daf3-4017-9016-753ea37a3d8f"
      },
      "source": [
        "a = np.array([1,2,3,4,5,6,8,9])\n",
        "shaping = a.reshape(2,2,2)#עמודות,שורות,מספר ממדים\n",
        "shaping"
      ],
      "execution_count": 73,
      "outputs": [
        {
          "output_type": "execute_result",
          "data": {
            "text/plain": [
              "array([[[1, 2],\n",
              "        [3, 4]],\n",
              "\n",
              "       [[5, 6],\n",
              "        [8, 9]]])"
            ]
          },
          "metadata": {},
          "execution_count": 73
        }
      ]
    },
    {
      "cell_type": "code",
      "metadata": {
        "id": "It86E3JxLYOt"
      },
      "source": [
        ""
      ],
      "execution_count": null,
      "outputs": []
    }
  ]
}